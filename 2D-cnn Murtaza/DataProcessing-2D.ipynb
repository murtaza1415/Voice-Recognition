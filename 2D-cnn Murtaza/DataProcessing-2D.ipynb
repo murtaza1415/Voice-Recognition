{
 "cells": [
  {
   "cell_type": "code",
   "execution_count": 1,
   "metadata": {},
   "outputs": [],
   "source": [
    "import os\n",
    "import numpy as np\n",
    "import shutil\n",
    "from glob import glob\n",
    "import librosa\n",
    "from IPython import display\n",
    "#import cPickle as pickle\n",
    "from pysndfx import AudioEffectsChain"
   ]
  },
  {
   "cell_type": "code",
   "execution_count": null,
   "metadata": {},
   "outputs": [],
   "source": [
    "#Rename speaker folders in numeric order to represent ID.\n",
    "speakers = glob(\"data/LibriSpeech-360/train-clean-360/*\")\n",
    "for speaker in speakers:                                    #Make sure only valid speaker directories are in list.\n",
    "    assert os.path.isdir(speaker)\n",
    "    assert str.isdigit(os.path.split(speaker)[1])\n",
    "print(len(speakers))\n",
    "for i in range(0,len(speakers)):\n",
    "    old_path = speakers[i] \n",
    "    new_path = os.path.split(speakers[i])[0] + '/' + str(i) \n",
    "    os.rename(old_path, new_path)"
   ]
  },
  {
   "cell_type": "code",
   "execution_count": null,
   "metadata": {},
   "outputs": [],
   "source": [
    "#Rearrange files in dataset LibriSpeech folder so that all audios of a particular speaker are in the same directory.\n",
    "\n",
    "speakers = glob(\"data/LibriSpeech-360/train-clean-360/*/\")\n",
    "for speaker in speakers:\n",
    "    subdirs = os.listdir(speaker)                         #List subdirectories for a particular speaker.\n",
    "    for subdir in subdirs:\n",
    "        if os.path.isdir(speaker + subdir):               #Check if its a directory and not a file.\n",
    "            audio_files = os.listdir(speaker + subdir)    #List files for a particular speaker in a particular subfolder.\n",
    "            for audio_file in audio_files:\n",
    "                if audio_file.endswith('.flac'):          #Check if file is audio file and not a text file or something unwanted.\n",
    "                    old_path = speaker + subdir + '/' + audio_file \n",
    "                    new_path = speaker + audio_file\n",
    "                    os.rename(old_path, new_path)         #Move the audiofile to main speaker directory.\n",
    "            shutil.rmtree(speaker + subdir)               #Remove subdirectory."
   ]
  },
  {
   "cell_type": "code",
   "execution_count": 52,
   "metadata": {},
   "outputs": [
    {
     "name": "stdout",
     "output_type": "stream",
     "text": [
      "\n",
      "-----------------------------------------------------------------------\n",
      "0\n"
     ]
    }
   ],
   "source": [
    "#Delete audios less than 4 sec.\n",
    "no_audios = 0\n",
    "small_audios = []\n",
    "audio_files = glob(\"data/evaluation_normalized/*/*.wav\")\n",
    "for audio_file in audio_files:\n",
    "    audio_data, audio_rate = librosa.load(sr=500, mono=True, path=audio_file)\n",
    "    no_audios += 1\n",
    "    if (no_audios % 100 == 0):\n",
    "        print(no_audios)\n",
    "    if len(audio_data) < (audio_rate*4):\n",
    "        small_audios.append(audio_file)\n",
    "print('\\n-----------------------------------------------------------------------')\n",
    "print(len(small_audios))\n",
    "#for audio_file in small_audios:\n",
    "#    os.remove(audio_file)"
   ]
  },
  {
   "cell_type": "code",
   "execution_count": 51,
   "metadata": {},
   "outputs": [],
   "source": [
    "#Append zero to audios less than 4 sec\n",
    "for audio_file in audio_files:\n",
    "    audio_data, audio_rate = librosa.load(sr=16000, mono=True, path=audio_file)\n",
    "    if len(audio_data) >= (audio_rate*4):\n",
    "        librosa.output.write_wav(audio_file, audio_data, audio_rate, norm=False)\n",
    "    elif len(audio_data) < (audio_rate*4):\n",
    "        length_diff = (audio_rate*4) - len(audio_data)\n",
    "        zeroes = [0 for i in range(0,length_diff)]\n",
    "        new_audio = np.append(audio_data, zeroes)\n",
    "        librosa.output.write_wav(audio_file, new_audio, audio_rate, norm=False)"
   ]
  }
 ],
 "metadata": {
  "kernelspec": {
   "display_name": "rnn",
   "language": "python",
   "name": "myipy_jupter_env"
  },
  "language_info": {
   "codemirror_mode": {
    "name": "ipython",
    "version": 2
   },
   "file_extension": ".py",
   "mimetype": "text/x-python",
   "name": "python",
   "nbconvert_exporter": "python",
   "pygments_lexer": "ipython2",
   "version": "2.7.15rc1"
  }
 },
 "nbformat": 4,
 "nbformat_minor": 2
}
